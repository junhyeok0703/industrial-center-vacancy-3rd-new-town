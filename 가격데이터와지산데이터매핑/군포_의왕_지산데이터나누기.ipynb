{
 "cells": [
  {
   "cell_type": "code",
   "execution_count": 2,
   "metadata": {},
   "outputs": [],
   "source": [
    "import pandas as pd\n",
    "\n",
    "경기도지산 = pd.read_csv('/Users/parkjunhyeok/콤파스_크롤링_전처리및상권정보가공/경기도지식산업체.csv')"
   ]
  },
  {
   "cell_type": "code",
   "execution_count": 7,
   "metadata": {},
   "outputs": [],
   "source": [
    "의왕시_지산 = 경기도지산[경기도지산['시군명']=='의왕시']"
   ]
  },
  {
   "cell_type": "code",
   "execution_count": null,
   "metadata": {},
   "outputs": [],
   "source": [
    "군포시_지산 = 경기도지산[경기도지산['시군명']=='군포시' ]"
   ]
  },
  {
   "cell_type": "code",
   "execution_count": 13,
   "metadata": {},
   "outputs": [],
   "source": [
    "군포_의왕_지산 = 경기도지산[(경기도지산['시군명'] == '군포시') | (경기도지산['시군명'] == '의왕시')]\n"
   ]
  },
  {
   "cell_type": "code",
   "execution_count": null,
   "metadata": {},
   "outputs": [
    {
     "data": {
      "text/html": [
       "<div>\n",
       "<style scoped>\n",
       "    .dataframe tbody tr th:only-of-type {\n",
       "        vertical-align: middle;\n",
       "    }\n",
       "\n",
       "    .dataframe tbody tr th {\n",
       "        vertical-align: top;\n",
       "    }\n",
       "\n",
       "    .dataframe thead th {\n",
       "        text-align: right;\n",
       "    }\n",
       "</style>\n",
       "<table border=\"1\" class=\"dataframe\">\n",
       "  <thead>\n",
       "    <tr style=\"text-align: right;\">\n",
       "      <th></th>\n",
       "      <th>위도</th>\n",
       "      <th>경도</th>\n",
       "      <th>부지면적(㎡)</th>\n",
       "      <th>건축면적(㎡)</th>\n",
       "      <th>공장시설면적(㎡)</th>\n",
       "      <th>기타산업시설면적(㎡)</th>\n",
       "      <th>지원시설면적(㎡)</th>\n",
       "      <th>공동시설면적(㎡)</th>\n",
       "      <th>유치가능업체수</th>\n",
       "      <th>입주업체수</th>\n",
       "      <th>공장동수</th>\n",
       "      <th>공실률</th>\n",
       "    </tr>\n",
       "  </thead>\n",
       "  <tbody>\n",
       "    <tr>\n",
       "      <th>count</th>\n",
       "      <td>42.000000</td>\n",
       "      <td>42.000000</td>\n",
       "      <td>42.000000</td>\n",
       "      <td>42.000000</td>\n",
       "      <td>42.000000</td>\n",
       "      <td>0.0</td>\n",
       "      <td>42.000000</td>\n",
       "      <td>0.0</td>\n",
       "      <td>42.000000</td>\n",
       "      <td>42.000000</td>\n",
       "      <td>42.000000</td>\n",
       "      <td>42.000000</td>\n",
       "    </tr>\n",
       "    <tr>\n",
       "      <th>mean</th>\n",
       "      <td>37.360336</td>\n",
       "      <td>126.956739</td>\n",
       "      <td>6064.595238</td>\n",
       "      <td>33570.926190</td>\n",
       "      <td>22468.676429</td>\n",
       "      <td>NaN</td>\n",
       "      <td>10235.024524</td>\n",
       "      <td>NaN</td>\n",
       "      <td>146.023810</td>\n",
       "      <td>123.857143</td>\n",
       "      <td>1.166667</td>\n",
       "      <td>20.143861</td>\n",
       "    </tr>\n",
       "    <tr>\n",
       "      <th>std</th>\n",
       "      <td>0.015449</td>\n",
       "      <td>0.012058</td>\n",
       "      <td>6374.558261</td>\n",
       "      <td>39499.995099</td>\n",
       "      <td>32404.888200</td>\n",
       "      <td>NaN</td>\n",
       "      <td>13410.002988</td>\n",
       "      <td>NaN</td>\n",
       "      <td>185.974098</td>\n",
       "      <td>173.230929</td>\n",
       "      <td>0.659514</td>\n",
       "      <td>20.969245</td>\n",
       "    </tr>\n",
       "    <tr>\n",
       "      <th>min</th>\n",
       "      <td>37.326820</td>\n",
       "      <td>126.941036</td>\n",
       "      <td>372.000000</td>\n",
       "      <td>961.000000</td>\n",
       "      <td>661.000000</td>\n",
       "      <td>NaN</td>\n",
       "      <td>300.000000</td>\n",
       "      <td>NaN</td>\n",
       "      <td>6.000000</td>\n",
       "      <td>3.000000</td>\n",
       "      <td>1.000000</td>\n",
       "      <td>0.000000</td>\n",
       "    </tr>\n",
       "    <tr>\n",
       "      <th>25%</th>\n",
       "      <td>37.353533</td>\n",
       "      <td>126.949268</td>\n",
       "      <td>2024.500000</td>\n",
       "      <td>6287.500000</td>\n",
       "      <td>4136.000000</td>\n",
       "      <td>NaN</td>\n",
       "      <td>1963.750000</td>\n",
       "      <td>NaN</td>\n",
       "      <td>17.250000</td>\n",
       "      <td>13.500000</td>\n",
       "      <td>1.000000</td>\n",
       "      <td>1.951872</td>\n",
       "    </tr>\n",
       "    <tr>\n",
       "      <th>50%</th>\n",
       "      <td>37.357026</td>\n",
       "      <td>126.953821</td>\n",
       "      <td>4456.500000</td>\n",
       "      <td>26556.860000</td>\n",
       "      <td>14150.895000</td>\n",
       "      <td>NaN</td>\n",
       "      <td>4796.500000</td>\n",
       "      <td>NaN</td>\n",
       "      <td>56.500000</td>\n",
       "      <td>46.000000</td>\n",
       "      <td>1.000000</td>\n",
       "      <td>14.119778</td>\n",
       "    </tr>\n",
       "    <tr>\n",
       "      <th>75%</th>\n",
       "      <td>37.368642</td>\n",
       "      <td>126.962211</td>\n",
       "      <td>8088.000000</td>\n",
       "      <td>37896.750000</td>\n",
       "      <td>24659.975000</td>\n",
       "      <td>NaN</td>\n",
       "      <td>15076.370000</td>\n",
       "      <td>NaN</td>\n",
       "      <td>203.750000</td>\n",
       "      <td>172.500000</td>\n",
       "      <td>1.000000</td>\n",
       "      <td>30.769231</td>\n",
       "    </tr>\n",
       "    <tr>\n",
       "      <th>max</th>\n",
       "      <td>37.401797</td>\n",
       "      <td>126.991018</td>\n",
       "      <td>29410.000000</td>\n",
       "      <td>199116.930000</td>\n",
       "      <td>189444.940000</td>\n",
       "      <td>NaN</td>\n",
       "      <td>73746.000000</td>\n",
       "      <td>NaN</td>\n",
       "      <td>825.000000</td>\n",
       "      <td>818.000000</td>\n",
       "      <td>4.000000</td>\n",
       "      <td>76.923077</td>\n",
       "    </tr>\n",
       "  </tbody>\n",
       "</table>\n",
       "</div>"
      ],
      "text/plain": [
       "              위도          경도       부지면적(㎡)        건축면적(㎡)      공장시설면적(㎡)  \\\n",
       "count  42.000000   42.000000     42.000000      42.000000      42.000000   \n",
       "mean   37.360336  126.956739   6064.595238   33570.926190   22468.676429   \n",
       "std     0.015449    0.012058   6374.558261   39499.995099   32404.888200   \n",
       "min    37.326820  126.941036    372.000000     961.000000     661.000000   \n",
       "25%    37.353533  126.949268   2024.500000    6287.500000    4136.000000   \n",
       "50%    37.357026  126.953821   4456.500000   26556.860000   14150.895000   \n",
       "75%    37.368642  126.962211   8088.000000   37896.750000   24659.975000   \n",
       "max    37.401797  126.991018  29410.000000  199116.930000  189444.940000   \n",
       "\n",
       "       기타산업시설면적(㎡)     지원시설면적(㎡)  공동시설면적(㎡)     유치가능업체수       입주업체수  \\\n",
       "count          0.0     42.000000        0.0   42.000000   42.000000   \n",
       "mean           NaN  10235.024524        NaN  146.023810  123.857143   \n",
       "std            NaN  13410.002988        NaN  185.974098  173.230929   \n",
       "min            NaN    300.000000        NaN    6.000000    3.000000   \n",
       "25%            NaN   1963.750000        NaN   17.250000   13.500000   \n",
       "50%            NaN   4796.500000        NaN   56.500000   46.000000   \n",
       "75%            NaN  15076.370000        NaN  203.750000  172.500000   \n",
       "max            NaN  73746.000000        NaN  825.000000  818.000000   \n",
       "\n",
       "            공장동수        공실률  \n",
       "count  42.000000  42.000000  \n",
       "mean    1.166667  20.143861  \n",
       "std     0.659514  20.969245  \n",
       "min     1.000000   0.000000  \n",
       "25%     1.000000   1.951872  \n",
       "50%     1.000000  14.119778  \n",
       "75%     1.000000  30.769231  \n",
       "max     4.000000  76.923077  "
      ]
     },
     "execution_count": 15,
     "metadata": {},
     "output_type": "execute_result"
    }
   ],
   "source": [
    "군포_의왕_지산.describe()"
   ]
  },
  {
   "cell_type": "code",
   "execution_count": 9,
   "metadata": {},
   "outputs": [
    {
     "data": {
      "text/plain": [
       "count    29.000000\n",
       "mean     20.965446\n",
       "std      20.745412\n",
       "min       0.000000\n",
       "25%       2.352941\n",
       "50%      18.181818\n",
       "75%      30.769231\n",
       "max      76.923077\n",
       "Name: 공실률, dtype: float64"
      ]
     },
     "execution_count": 9,
     "metadata": {},
     "output_type": "execute_result"
    }
   ],
   "source": [
    "군포시_지산['공실률'].describe()"
   ]
  },
  {
   "cell_type": "code",
   "execution_count": 10,
   "metadata": {},
   "outputs": [
    {
     "data": {
      "text/plain": [
       "count    13.000000\n",
       "mean     18.311095\n",
       "std      22.200632\n",
       "min       0.000000\n",
       "25%       1.818182\n",
       "50%       9.090909\n",
       "75%      24.390244\n",
       "max      71.875000\n",
       "Name: 공실률, dtype: float64"
      ]
     },
     "execution_count": 10,
     "metadata": {},
     "output_type": "execute_result"
    }
   ],
   "source": [
    "의왕시_지산['공실률'].describe()"
   ]
  },
  {
   "cell_type": "code",
   "execution_count": 17,
   "metadata": {},
   "outputs": [],
   "source": [
    "군포_의왕_지산.to_csv('/Users/parkjunhyeok/콤파스_크롤링_전처리및상권정보가공/군포_의왕_지산.csv', index=False)"
   ]
  },
  {
   "cell_type": "code",
   "execution_count": null,
   "metadata": {},
   "outputs": [],
   "source": []
  }
 ],
 "metadata": {
  "kernelspec": {
   "display_name": "base",
   "language": "python",
   "name": "python3"
  },
  "language_info": {
   "codemirror_mode": {
    "name": "ipython",
    "version": 3
   },
   "file_extension": ".py",
   "mimetype": "text/x-python",
   "name": "python",
   "nbconvert_exporter": "python",
   "pygments_lexer": "ipython3",
   "version": "3.12.4"
  }
 },
 "nbformat": 4,
 "nbformat_minor": 2
}
